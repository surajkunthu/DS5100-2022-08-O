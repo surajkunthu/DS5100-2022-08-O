{
 "cells": [
  {
   "cell_type": "markdown",
   "metadata": {},
   "source": [
    "# Metadata\n",
    "\n",
    "```\n",
    "Course:   DS 5100\n",
    "Module:   04 Python Functions\n",
    "Topic:    Importing Functions\n",
    "Author:   R.C. Alvarado\n",
    "Date:     23 June 2022\n",
    "```\n"
   ]
  },
  {
   "cell_type": "markdown",
   "metadata": {},
   "source": [
    "# Importing \n",
    "\n",
    "Calling a function from the \"math\" library is straightforward:\n",
    "\n",
    "1. Import Python's Math library with the command `import math`\n",
    "2. Call methods from the imported `math` object using \"dot\" notation, that is, <name of the library>.<name of the method>(any parameters).\n",
    "    \n",
    "For example: \n",
    "```python\n",
    "math.sqrt(12)\n",
    "```\n",
    "    \n",
    "Put all of your import statements at the very top of your code, before anything else, other than any header comments (which you should have).\n",
    " \n",
    "Here are some example math functions:   "
   ]
  },
  {
   "cell_type": "code",
   "execution_count": 1,
   "metadata": {},
   "outputs": [],
   "source": [
    "import math # Typically best to put this line of code at the TOP of the file"
   ]
  },
  {
   "cell_type": "code",
   "execution_count": 2,
   "metadata": {},
   "outputs": [
    {
     "data": {
      "text/plain": [
       "3.4641016151377544"
      ]
     },
     "execution_count": 2,
     "metadata": {},
     "output_type": "execute_result"
    }
   ],
   "source": [
    "math.sqrt(12)"
   ]
  },
  {
   "cell_type": "code",
   "execution_count": 3,
   "metadata": {},
   "outputs": [
    {
     "data": {
      "text/plain": [
       "2"
      ]
     },
     "execution_count": 3,
     "metadata": {},
     "output_type": "execute_result"
    }
   ],
   "source": [
    "math.floor(2.5) # returns largest whole number less than the argument"
   ]
  },
  {
   "cell_type": "markdown",
   "metadata": {},
   "source": [
    "Here's an example using the random library (a class)."
   ]
  },
  {
   "cell_type": "code",
   "execution_count": 4,
   "metadata": {},
   "outputs": [],
   "source": [
    "import random # Typically best to put this line of code at the TOP of the file"
   ]
  },
  {
   "cell_type": "code",
   "execution_count": 5,
   "metadata": {},
   "outputs": [
    {
     "data": {
      "text/plain": [
       "0.526372708310251"
      ]
     },
     "execution_count": 5,
     "metadata": {},
     "output_type": "execute_result"
    }
   ],
   "source": [
    "random.random()# will return a number between 0 and 1 "
   ]
  },
  {
   "cell_type": "code",
   "execution_count": 6,
   "metadata": {},
   "outputs": [
    {
     "data": {
      "text/plain": [
       "53"
      ]
     },
     "execution_count": 6,
     "metadata": {},
     "output_type": "execute_result"
    }
   ],
   "source": [
    "random.randint(1, 100) # this will return a random integer in the range 1-100"
   ]
  },
  {
   "cell_type": "markdown",
   "metadata": {
    "tags": []
   },
   "source": [
    "# Importing Specific Functions\n",
    "\n",
    "If you know what specifics function you are going to use from a library, you can import them directly, like so:\n",
    "\n",
    "```python\n",
    "from math import sqrt\n",
    "```\n",
    "\n",
    "This has two effects:\n",
    "1. It reduces the memory used by the library in your program.\n",
    "2. It allows you to call the function directly, with the object dot notation."
   ]
  },
  {
   "cell_type": "code",
   "execution_count": 7,
   "metadata": {},
   "outputs": [],
   "source": [
    "from math import sqrt"
   ]
  },
  {
   "cell_type": "code",
   "execution_count": 8,
   "metadata": {},
   "outputs": [
    {
     "data": {
      "text/plain": [
       "9.9498743710662"
      ]
     },
     "execution_count": 8,
     "metadata": {},
     "output_type": "execute_result"
    }
   ],
   "source": [
    "sqrt(99)"
   ]
  },
  {
   "cell_type": "markdown",
   "metadata": {},
   "source": [
    "# Aliasing"
   ]
  },
  {
   "cell_type": "markdown",
   "metadata": {},
   "source": [
    "To avoid having the function name conflict with an existing function in your program, \\\n",
    "you can alias the imported function like so:"
   ]
  },
  {
   "cell_type": "code",
   "execution_count": 9,
   "metadata": {},
   "outputs": [],
   "source": [
    "from math import sqrt as SquareRoot"
   ]
  },
  {
   "cell_type": "code",
   "execution_count": 10,
   "metadata": {},
   "outputs": [
    {
     "data": {
      "text/plain": [
       "254.95097567963924"
      ]
     },
     "execution_count": 10,
     "metadata": {},
     "output_type": "execute_result"
    }
   ],
   "source": [
    "SquareRoot(65000)"
   ]
  },
  {
   "cell_type": "code",
   "execution_count": 11,
   "metadata": {},
   "outputs": [],
   "source": [
    "def square(number):\n",
    "    return number * number  # square a number\n",
    "    \n",
    "def addTen(number):\n",
    "    return number + 10  # Add 10 to the number   \n",
    "    \n",
    "def numVowels(string):\n",
    "    string = string.lower()  # convert user input to lowercase\n",
    "    count = 0\n",
    "    for i in range(len(string)):\n",
    "        if string[i] == \"a\" or string[i] == \"e\" or \\\n",
    "           string[i] == \"i\" or string[i] == \"o\" or \\\n",
    "           string[i] == \"u\":\n",
    "           count += 1 # increment count\n",
    "    return count"
   ]
  }
 ],
 "metadata": {
  "kernelspec": {
   "display_name": "Python 3.9.7",
   "language": "python",
   "name": "python3"
  },
  "language_info": {
   "codemirror_mode": {
    "name": "ipython",
    "version": 3
   },
   "file_extension": ".py",
   "mimetype": "text/x-python",
   "name": "python",
   "nbconvert_exporter": "python",
   "pygments_lexer": "ipython3",
   "version": "3.9.7"
  },
  "vscode": {
   "interpreter": {
    "hash": "4742e2e80a257982c9bf4b253bcd506bd4f24b7e39b135ed6743e40502279723"
   }
  },
  "widgets": {
   "application/vnd.jupyter.widget-state+json": {
    "state": {},
    "version_major": 2,
    "version_minor": 0
   }
  }
 },
 "nbformat": 4,
 "nbformat_minor": 4
}
