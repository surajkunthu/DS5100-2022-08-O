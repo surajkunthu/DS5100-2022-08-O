{
 "cells": [
  {
   "cell_type": "code",
   "execution_count": 23,
   "id": "f2c32193-be5e-4109-abd9-a26f2beba7b8",
   "metadata": {},
   "outputs": [
    {
     "data": {
      "text/plain": [
       "<module 'a' from '/Users/rca2t1/Dropbox/Courses/DS/DS5100/DS5100-2022-08-O/repo/lessons/M09_PythonModules/TEST/a/__init__.py'>"
      ]
     },
     "execution_count": 23,
     "metadata": {},
     "output_type": "execute_result"
    }
   ],
   "source": [
    "import a\n",
    "from imp import reload\n",
    "reload(a)"
   ]
  },
  {
   "cell_type": "code",
   "execution_count": null,
   "id": "80a25ffd-be6b-4cc9-8d86-8fa35f29bfa8",
   "metadata": {},
   "outputs": [],
   "source": []
  }
 ],
 "metadata": {
  "kernelspec": {
   "display_name": "Python 3 (ipykernel)",
   "language": "python",
   "name": "python3"
  },
  "language_info": {
   "codemirror_mode": {
    "name": "ipython",
    "version": 3
   },
   "file_extension": ".py",
   "mimetype": "text/x-python",
   "name": "python",
   "nbconvert_exporter": "python",
   "pygments_lexer": "ipython3",
   "version": "3.8.3"
  },
  "widgets": {
   "application/vnd.jupyter.widget-state+json": {
    "state": {},
    "version_major": 2,
    "version_minor": 0
   }
  }
 },
 "nbformat": 4,
 "nbformat_minor": 5
}
