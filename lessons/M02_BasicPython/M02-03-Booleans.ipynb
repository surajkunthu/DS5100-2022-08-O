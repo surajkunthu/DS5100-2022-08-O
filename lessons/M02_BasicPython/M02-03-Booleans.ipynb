{
 "cells": [
  {
   "cell_type": "markdown",
   "metadata": {
    "tags": []
   },
   "source": [
    "# Metadata \n",
    "\n",
    "```\n",
    "Course:   DS 5100\n",
    "Module:   02 Python Basics\n",
    "Topic:    Python Booleans\n",
    "Author:   R.C. Alvarado\n",
    "Date:     21 July 2022\n",
    "```"
   ]
  },
  {
   "cell_type": "markdown",
   "metadata": {},
   "source": [
    "A `boolean` value takes one of `True` or `False`, which are built-in values\n",
    "\n",
    "check if `cache` is True, using `if` statement  \n",
    "`if` statement using a bool evaluates to True or False"
   ]
  },
  {
   "cell_type": "code",
   "execution_count": 1,
<<<<<<< HEAD
=======
   "id": "8063e1da-b25a-47b9-b1da-0712f833bf8d",
>>>>>>> 64122ae8ef69a876b0f242eaf3e86621ed63e183
   "metadata": {},
   "outputs": [
    {
     "name": "stdout",
     "output_type": "stream",
     "text": [
      "data will be cached\n"
     ]
    }
   ],
   "source": [
    "cache = True\n",
    "\n",
    "if cache:\n",
    "   print('data will be cached')"
   ]
  },
  {
   "cell_type": "code",
   "execution_count": 2,
<<<<<<< HEAD
=======
   "id": "f3b0c650-3f96-45a6-83db-5ef3007c3c69",
>>>>>>> 64122ae8ef69a876b0f242eaf3e86621ed63e183
   "metadata": {},
   "outputs": [
    {
     "name": "stdout",
     "output_type": "stream",
     "text": [
      "<class 'bool'>\n"
     ]
    }
   ],
   "source": [
    "print(type(cache))"
   ]
  },
  {
   "cell_type": "markdown",
   "metadata": {},
   "source": [
    "**Booleans are frequently used in `if/then` statements.**\n",
    "\n",
    "We'll cover these later."
   ]
  },
  {
   "cell_type": "code",
   "execution_count": 3,
   "metadata": {},
   "outputs": [
    {
     "name": "stdout",
     "output_type": "stream",
     "text": [
      "condition met!\n"
     ]
    }
   ],
   "source": [
    "cache = True\n",
    "oome = False\n",
    "\n",
    "if cache or oome:\n",
    "    print('condition met!')\n",
    "else:\n",
    "    print(\"No dice.\")"
   ]
  },
  {
   "cell_type": "markdown",
   "metadata": {},
   "source": [
    "AND statements will short circuit if an early condition fails.  "
   ]
  },
  {
   "cell_type": "code",
   "execution_count": 4,
   "metadata": {},
   "outputs": [],
   "source": [
    "if oome and cache:\n",
    "    print('condition met!')"
   ]
  },
  {
   "cell_type": "markdown",
   "metadata": {},
   "source": [
    "In this case, since *oome* is False, the check on *cache* never happens."
   ]
  },
  {
   "cell_type": "code",
   "execution_count": null,
   "metadata": {},
   "outputs": [],
   "source": []
  }
 ],
 "metadata": {
  "kernelspec": {
<<<<<<< HEAD
   "display_name": "Python 3",
=======
   "display_name": "Python 3 (ipykernel)",
>>>>>>> 64122ae8ef69a876b0f242eaf3e86621ed63e183
   "language": "python",
   "name": "python3"
  },
  "language_info": {
   "codemirror_mode": {
    "name": "ipython",
    "version": 3
   },
   "file_extension": ".py",
   "mimetype": "text/x-python",
   "name": "python",
   "nbconvert_exporter": "python",
   "pygments_lexer": "ipython3",
   "version": "3.8.8"
  },
  "vscode": {
   "interpreter": {
    "hash": "c3b963de08c47c3b6758389c5e0978ad73698a111eb508d4e16b558edb8f4cbf"
   }
  },
  "widgets": {
   "application/vnd.jupyter.widget-state+json": {
    "state": {},
    "version_major": 2,
    "version_minor": 0
   }
  }
 },
 "nbformat": 4,
 "nbformat_minor": 5
}
