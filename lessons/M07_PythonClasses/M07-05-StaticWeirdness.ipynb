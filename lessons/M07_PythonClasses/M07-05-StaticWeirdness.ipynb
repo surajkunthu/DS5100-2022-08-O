{
 "cells": [
  {
   "cell_type": "markdown",
   "id": "67cbe731-e871-461c-9973-bf5c7c687a33",
   "metadata": {
    "tags": []
   },
   "source": [
    "# Static Attributes Are Weird"
   ]
  },
  {
   "cell_type": "code",
   "execution_count": 1,
   "id": "3df3e234-0759-4ee8-8d6d-e9ac6b74b8e1",
   "metadata": {
    "tags": []
   },
   "outputs": [],
   "source": [
    "class WithStatic():\n",
    "    \n",
    "    foo = 0  # This is NOT affected by instances\n",
    "    bar = [] # This IS afftected by instances\n",
    "    \n",
    "    def add_one(self):\n",
    "        self.foo += 1       # This does NOT affect the static attribute\n",
    "        self.bar.append(1)  # This DOES affect the static attribute\n",
    "        "
   ]
  },
  {
   "cell_type": "code",
   "execution_count": 2,
   "id": "ff29c505-6db7-4714-98f0-8149695b8660",
   "metadata": {},
   "outputs": [],
   "source": [
    "with_static1 = WithStatic()"
   ]
  },
  {
   "cell_type": "code",
   "execution_count": 3,
   "id": "bbcf6e45-99c4-489c-bddf-2f115baeb300",
   "metadata": {},
   "outputs": [
    {
     "data": {
      "text/plain": [
       "(0, 0, [], [])"
      ]
     },
     "execution_count": 3,
     "metadata": {},
     "output_type": "execute_result"
    }
   ],
   "source": [
    "with_static1.foo, WithStatic.foo, with_static1.bar, WithStatic.bar"
   ]
  },
  {
   "cell_type": "code",
   "execution_count": 4,
   "id": "7d2eec08-9b75-413d-8808-4f32974a9b46",
   "metadata": {},
   "outputs": [],
   "source": [
    "with_static1.add_one()"
   ]
  },
  {
   "cell_type": "code",
   "execution_count": 5,
   "id": "628b2764-397b-4509-847b-19e64d9cc71b",
   "metadata": {},
   "outputs": [
    {
     "data": {
      "text/plain": [
       "(1, 0, [1], [1])"
      ]
     },
     "execution_count": 5,
     "metadata": {},
     "output_type": "execute_result"
    }
   ],
   "source": [
    "with_static1.foo, WithStatic.foo, with_static1.bar, WithStatic.bar"
   ]
  },
  {
   "cell_type": "code",
   "execution_count": 6,
   "id": "9b64eeb2-35d4-4b38-b81c-19c125a2a092",
   "metadata": {},
   "outputs": [],
   "source": [
    "with_static1.add_one()"
   ]
  },
  {
   "cell_type": "code",
   "execution_count": 7,
   "id": "0fb6555a-fce2-43c7-8634-0b4f6261014a",
   "metadata": {},
   "outputs": [
    {
     "data": {
      "text/plain": [
       "(2, 0, [1, 1], [1, 1])"
      ]
     },
     "execution_count": 7,
     "metadata": {},
     "output_type": "execute_result"
    }
   ],
   "source": [
    "with_static1.foo, WithStatic.foo, with_static1.bar, WithStatic.bar"
   ]
  },
  {
   "cell_type": "code",
   "execution_count": 8,
   "id": "fd06e5d0-2f35-4eae-bb0e-79f32c56a837",
   "metadata": {},
   "outputs": [],
   "source": [
    "with_static1 = WithStatic()"
   ]
  },
  {
   "cell_type": "code",
   "execution_count": 9,
   "id": "89b8d330-f591-4276-afd7-d9d232b860db",
   "metadata": {},
   "outputs": [
    {
     "data": {
      "text/plain": [
       "(0, 0, [1, 1], [1, 1])"
      ]
     },
     "execution_count": 9,
     "metadata": {},
     "output_type": "execute_result"
    }
   ],
   "source": [
    "with_static1.foo, WithStatic.foo, with_static1.bar, WithStatic.bar"
   ]
  },
  {
   "cell_type": "code",
   "execution_count": 10,
   "id": "c1b447a2-1309-49e8-b596-ec372e581312",
   "metadata": {},
   "outputs": [],
   "source": [
    "with_static1.add_one()"
   ]
  },
  {
   "cell_type": "code",
   "execution_count": 11,
   "id": "b50d55fd-74af-42ba-90b1-c5188154f39d",
   "metadata": {},
   "outputs": [
    {
     "data": {
      "text/plain": [
       "(1, 0, [1, 1, 1], [1, 1, 1])"
      ]
     },
     "execution_count": 11,
     "metadata": {},
     "output_type": "execute_result"
    }
   ],
   "source": [
    "with_static1.foo, WithStatic.foo, with_static1.bar, WithStatic.bar"
   ]
  },
  {
   "cell_type": "code",
   "execution_count": 12,
   "id": "f1c1f91c-10ee-488c-8920-c59a8ad8db7a",
   "metadata": {},
   "outputs": [],
   "source": [
    "with_static2 = WithStatic()"
   ]
  },
  {
   "cell_type": "code",
   "execution_count": 13,
   "id": "75900531-b49d-45d3-a916-6f4f4be818e3",
   "metadata": {},
   "outputs": [
    {
     "data": {
      "text/plain": [
       "(0, 0, [1, 1, 1], [1, 1, 1])"
      ]
     },
     "execution_count": 13,
     "metadata": {},
     "output_type": "execute_result"
    }
   ],
   "source": [
    "with_static2.foo, WithStatic.foo, with_static2.bar, WithStatic.bar"
   ]
  },
  {
   "cell_type": "code",
   "execution_count": 14,
   "id": "a0f7fc48-9d6c-41dc-9442-ad005ee1458f",
   "metadata": {},
   "outputs": [],
   "source": [
    "with_static2.add_one()"
   ]
  },
  {
   "cell_type": "code",
   "execution_count": 15,
   "id": "11788a84-f849-41cd-af79-9297553b0afc",
   "metadata": {},
   "outputs": [
    {
     "data": {
      "text/plain": [
       "(1, 0, [1, 1, 1, 1], [1, 1, 1, 1])"
      ]
     },
     "execution_count": 15,
     "metadata": {},
     "output_type": "execute_result"
    }
   ],
   "source": [
    "with_static2.foo, WithStatic.foo, with_static2.bar, WithStatic.bar"
   ]
  },
  {
   "cell_type": "code",
   "execution_count": 16,
   "id": "21c1dede-fd76-4cff-ad65-6246249bdaf4",
   "metadata": {},
   "outputs": [],
   "source": [
    "with_static2.add_one()"
   ]
  },
  {
   "cell_type": "code",
   "execution_count": 17,
   "id": "03a7053a-16a5-47c9-8869-e673f088cd80",
   "metadata": {},
   "outputs": [
    {
     "data": {
      "text/plain": [
       "(2, 0, [1, 1, 1, 1, 1], [1, 1, 1, 1, 1])"
      ]
     },
     "execution_count": 17,
     "metadata": {},
     "output_type": "execute_result"
    }
   ],
   "source": [
    "with_static2.foo, WithStatic.foo, with_static2.bar, WithStatic.bar"
   ]
  },
  {
   "cell_type": "code",
   "execution_count": null,
   "id": "207030c1-84f5-4ae5-ba99-3eeacff28712",
   "metadata": {},
   "outputs": [],
   "source": []
  }
 ],
 "metadata": {
  "kernelspec": {
   "display_name": "Python 3 (ipykernel)",
   "language": "python",
   "name": "python3"
  },
  "language_info": {
   "codemirror_mode": {
    "name": "ipython",
    "version": 3
   },
   "file_extension": ".py",
   "mimetype": "text/x-python",
   "name": "python",
   "nbconvert_exporter": "python",
   "pygments_lexer": "ipython3",
   "version": "3.8.3"
  },
  "widgets": {
   "application/vnd.jupyter.widget-state+json": {
    "state": {},
    "version_major": 2,
    "version_minor": 0
   }
  }
 },
 "nbformat": 4,
 "nbformat_minor": 5
}
